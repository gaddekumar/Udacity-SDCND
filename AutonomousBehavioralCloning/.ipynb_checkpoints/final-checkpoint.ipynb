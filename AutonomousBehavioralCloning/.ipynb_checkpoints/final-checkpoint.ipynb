{
 "cells": [
  {
   "cell_type": "code",
   "execution_count": 40,
   "metadata": {},
   "outputs": [
    {
     "name": "stdout",
     "output_type": "stream",
     "text": [
      "Loaded\n"
     ]
    }
   ],
   "source": [
    "import os\n",
    "import cv2\n",
    "import csv\n",
    "import keras\n",
    "import pickle\n",
    "import h5py\n",
    "import sklearn\n",
    "import tensorflow\n",
    "import numpy as np\n",
    "from keras.models import Sequential\n",
    "from keras.layers.core import Dense, Activation, Flatten\n",
    "from keras.layers import Dense, Dropout, Flatten\n",
    "from keras.layers import Conv2D, MaxPooling2D\n",
    "from keras.layers import Lambda\n",
    "from keras.backend import tf as ktf\n",
    "from keras.optimizers import SGD\n",
    "from keras import optimizers\n",
    "print ('Loaded')"
   ]
  },
  {
   "cell_type": "code",
   "execution_count": 41,
   "metadata": {},
   "outputs": [
    {
     "name": "stdout",
     "output_type": "stream",
     "text": [
      "53518\n"
     ]
    }
   ],
   "source": [
    "# This cell is the COPY of the above cell. \n",
    "Images = []\n",
    "steering_angles = []\n",
    "counter = []\n",
    "with open('data/data/driving_log.csv') as csvfile:\n",
    "    reader = csv.reader(csvfile)\n",
    "    for line in reader:\n",
    "        Images.append('data/data/IMG/'+line[0].split('/')[-1])\n",
    "        Images.append('data/data/IMG/'+line[1].split('/')[-1])\n",
    "        Images.append('data/data/IMG/'+line[2].split('/')[-1])\n",
    "        steering_angle = float(line[3])\n",
    "        steering_angles.append(steering_angle)\n",
    "        steering_angles.append(steering_angle+0.2)\n",
    "        steering_angles.append(steering_angle-0.2)\n",
    "\n",
    "        counter.append(1)\n",
    "        counter.append(1)\n",
    "        counter.append(1)\n",
    "        \n",
    "        if(steering_angle >0.2 or steering_angle<(-0.2)):\n",
    "            Images.append('data/data/IMG/'+line[0].split('/')[-1])\n",
    "            steering_angles.append(-steering_angle)\n",
    "            counter.append(0)\n",
    "            \n",
    "samples = list(zip(Images, steering_angles, counter))\n",
    "print(len(samples))"
   ]
  },
  {
   "cell_type": "code",
   "execution_count": 42,
   "metadata": {
    "collapsed": true
   },
   "outputs": [],
   "source": [
    "from sklearn.model_selection import train_test_split\n",
    "train_validation, test = train_test_split(samples, test_size=0.1)\n",
    "train_samples, validation_samples = train_test_split(train_validation, test_size=0.2)\n"
   ]
  },
  {
   "cell_type": "code",
   "execution_count": 43,
   "metadata": {
    "collapsed": true
   },
   "outputs": [],
   "source": [
    "import sklearn\n",
    "import cv2\n",
    "def generator(samples, batch_size=32):\n",
    "    num_samples = len(samples)\n",
    "    \n",
    "    while 1: # Loop forever so the generator never terminates\n",
    "        sklearn.utils.shuffle(samples)\n",
    "        for offset in range(0, num_samples, batch_size):\n",
    "            batch_samples = samples[offset:offset+batch_size]\n",
    "            images = []\n",
    "            angles = []\n",
    "            for batch_sample in batch_samples:\n",
    "                counter = batch_sample[2]\n",
    "                \n",
    "                if(counter):\n",
    "                    center_image = cv2.imread(batch_sample[0])\n",
    "                    center_angle = batch_sample[1]\n",
    "                    center_image = cv2.resize(center_image, (200,66))\n",
    "                    center_image = cv2.cvtColor(center_image, cv2.COLOR_RGB2GRAY)\n",
    "                    center_image = np.reshape(center_image,(66,200,1))\n",
    "                else:\n",
    "                    center_image = cv2.imread(batch_sample[0])\n",
    "                    center_angle = batch_sample[1]\n",
    "                    center_image = cv2.resize(center_image, (200,66))\n",
    "                    center_image = cv2.cvtColor(center_image, cv2.COLOR_RGB2GRAY)\n",
    "                    center_image = cv2.flip(center_image,1)\n",
    "                    center_image = np.reshape(center_image,(66,200,1))\n",
    "                    \n",
    "                images.append(center_image)\n",
    "                angles.append(center_angle)\n",
    "                \n",
    "            X_train = np.array(images)\n",
    "            y_train = np.array(angles)\n",
    "            \n",
    "            yield sklearn.utils.shuffle(X_train, y_train)\n",
    "            \n"
   ]
  },
  {
   "cell_type": "code",
   "execution_count": 45,
   "metadata": {
    "collapsed": true
   },
   "outputs": [],
   "source": [
    "model = Sequential()\n",
    "model.add(keras.layers.convolutional.Cropping2D(cropping=((20,9),(0,0)), input_shape = (66,200,1)))\n",
    "model.add( Lambda(lambda x: (x/255.0) - 0.5))\n",
    "\n",
    "model.add(Conv2D(24, 5, 5, border_mode=\"same\", init='glorot_uniform',subsample=(2,2)))\n",
    "model.add(Activation('relu'))\n",
    "\n",
    "model.add(Conv2D(36, 5, 5, border_mode=\"same\", init='glorot_uniform' ,subsample=(2,2)))\n",
    "model.add(Activation('relu'))\n",
    "\n",
    "model.add(Conv2D(48, 5, 5, border_mode=\"same\", init='glorot_uniform',subsample=(2,2)))\n",
    "model.add(Activation('relu'))\n",
    "\n",
    "model.add(Conv2D(64, 3, 3,border_mode=\"same\", init='glorot_uniform',subsample=(1,1)))\n",
    "model.add(Activation('relu'))\n",
    "\n",
    "model.add(Conv2D(64, 3, 3,border_mode=\"same\", init='glorot_uniform',subsample=(1,1)))\n",
    "model.add(Activation('relu'))\n",
    "model.add(Dropout(0.2))\n",
    "\n",
    "model.add(Flatten())\n",
    "model.add(Dense(1164, init='glorot_uniform'))\n",
    "model.add(Activation('relu'))\n",
    "model.add(Dense(100, init='glorot_uniform'))\n",
    "model.add(Activation('relu'))\n",
    "model.add(Dense(50, init='glorot_uniform'))\n",
    "model.add(Activation('relu'))\n",
    "model.add(Dense(10, init='glorot_uniform'))\n",
    "model.add(Activation('relu'))\n",
    "model.add(Dense(1, init='glorot_uniform'))\n"
   ]
  },
  {
   "cell_type": "code",
   "execution_count": 46,
   "metadata": {
    "collapsed": true
   },
   "outputs": [],
   "source": [
    "train_generator      = generator( train_samples, batch_size=32 )\n",
    "validation_generator = generator( validation_samples, batch_size=32 )"
   ]
  },
  {
   "cell_type": "code",
   "execution_count": 47,
   "metadata": {
    "scrolled": false
   },
   "outputs": [
    {
     "name": "stdout",
     "output_type": "stream",
     "text": [
      "Epoch 1/10\n",
      "38532/38532 [==============================] - 70s - loss: 0.0324 - val_loss: 0.0284\n",
      "Epoch 2/10\n",
      "38532/38532 [==============================] - 69s - loss: 0.0259 - val_loss: 0.0268\n",
      "Epoch 3/10\n",
      "38532/38532 [==============================] - 69s - loss: 0.0228 - val_loss: 0.0247\n",
      "Epoch 4/10\n",
      "38532/38532 [==============================] - 69s - loss: 0.0207 - val_loss: 0.0244\n",
      "Epoch 5/10\n",
      "38532/38532 [==============================] - 69s - loss: 0.0191 - val_loss: 0.0237\n",
      "Epoch 6/10\n",
      "38532/38532 [==============================] - 69s - loss: 0.0173 - val_loss: 0.0244\n",
      "Epoch 7/10\n",
      "38532/38532 [==============================] - 69s - loss: 0.0164 - val_loss: 0.0224\n",
      "Epoch 8/10\n",
      "38532/38532 [==============================] - 69s - loss: 0.0151 - val_loss: 0.0222\n",
      "Epoch 9/10\n",
      "38532/38532 [==============================] - 69s - loss: 0.0137 - val_loss: 0.0230\n",
      "Epoch 10/10\n",
      "38532/38532 [==============================] - 69s - loss: 0.0128 - val_loss: 0.0212\n"
     ]
    }
   ],
   "source": [
    "model.compile(loss = 'mean_squared_error', optimizer='adam')\n",
    "\n",
    "model.fit_generator (train_generator, samples_per_epoch = len(train_samples), validation_data = validation_generator, nb_val_samples = len(validation_samples), nb_epoch = 10)\n",
    "model.save('final1.h5')"
   ]
  },
  {
   "cell_type": "code",
   "execution_count": 48,
   "metadata": {
    "collapsed": true
   },
   "outputs": [],
   "source": [
    "test_generator = generator(test, batch_size = 32)\n",
    "value = model.evaluate_generator(test_generator, val_samples = len(test))\n"
   ]
  },
  {
   "cell_type": "code",
   "execution_count": 49,
   "metadata": {},
   "outputs": [
    {
     "name": "stdout",
     "output_type": "stream",
     "text": [
      "The test loss value is:  0.0199910807235\n"
     ]
    }
   ],
   "source": [
    "print(\"The test loss value is: \",value)"
   ]
  },
  {
   "cell_type": "code",
   "execution_count": null,
   "metadata": {
    "collapsed": true
   },
   "outputs": [],
   "source": []
  }
 ],
 "metadata": {
  "kernelspec": {
   "display_name": "Python 3",
   "language": "python",
   "name": "python3"
  },
  "language_info": {
   "codemirror_mode": {
    "name": "ipython",
    "version": 3
   },
   "file_extension": ".py",
   "mimetype": "text/x-python",
   "name": "python",
   "nbconvert_exporter": "python",
   "pygments_lexer": "ipython3",
   "version": "3.5.2"
  },
  "widgets": {
   "state": {},
   "version": "1.1.2"
  }
 },
 "nbformat": 4,
 "nbformat_minor": 2
}
